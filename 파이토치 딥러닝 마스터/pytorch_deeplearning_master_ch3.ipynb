{
  "nbformat": 4,
  "nbformat_minor": 0,
  "metadata": {
    "colab": {
      "provenance": [],
      "gpuType": "T4",
      "authorship_tag": "ABX9TyOrgMZbrzg5+w5CZgyY+F2R",
      "include_colab_link": true
    },
    "kernelspec": {
      "name": "python3",
      "display_name": "Python 3"
    },
    "language_info": {
      "name": "python"
    },
    "accelerator": "GPU"
  },
  "cells": [
    {
      "cell_type": "markdown",
      "metadata": {
        "id": "view-in-github",
        "colab_type": "text"
      },
      "source": [
        "<a href=\"https://colab.research.google.com/github/k00dj-19/pytorch_study/blob/main/%ED%8C%8C%EC%9D%B4%ED%86%A0%EC%B9%98%20%EB%94%A5%EB%9F%AC%EB%8B%9D%20%EB%A7%88%EC%8A%A4%ED%84%B0/pytorch_deeplearning_master_ch3.ipynb\" target=\"_parent\"><img src=\"https://colab.research.google.com/assets/colab-badge.svg\" alt=\"Open In Colab\"/></a>"
      ]
    },
    {
      "cell_type": "code",
      "source": [
        "!git clone https://github.com/deep-learning-with-pytorch/dlwpt-code.git"
      ],
      "metadata": {
        "colab": {
          "base_uri": "https://localhost:8080/"
        },
        "id": "84vO21rpZktt",
        "outputId": "f41d603d-329e-41b5-b278-a7acc048d115"
      },
      "execution_count": null,
      "outputs": [
        {
          "output_type": "stream",
          "name": "stdout",
          "text": [
            "Cloning into 'dlwpt-code'...\n",
            "remote: Enumerating objects: 703, done.\u001b[K\n",
            "remote: Total 703 (delta 0), reused 0 (delta 0), pack-reused 703\u001b[K\n",
            "Receiving objects: 100% (703/703), 176.00 MiB | 27.51 MiB/s, done.\n",
            "Resolving deltas: 100% (309/309), done.\n",
            "Updating files: 100% (228/228), done.\n"
          ]
        }
      ]
    },
    {
      "cell_type": "code",
      "execution_count": null,
      "metadata": {
        "id": "HRk_JdxBSxb_"
      },
      "outputs": [],
      "source": [
        "a = [1.0, 2.0, 3.0]"
      ]
    },
    {
      "cell_type": "code",
      "source": [
        "a[0]"
      ],
      "metadata": {
        "colab": {
          "base_uri": "https://localhost:8080/"
        },
        "id": "t9kqwQvqS4G6",
        "outputId": "1081b422-495a-40c2-ac0a-eaef94516dac"
      },
      "execution_count": null,
      "outputs": [
        {
          "output_type": "execute_result",
          "data": {
            "text/plain": [
              "1.0"
            ]
          },
          "metadata": {},
          "execution_count": 2
        }
      ]
    },
    {
      "cell_type": "code",
      "source": [
        "import torch\n",
        "a = torch.ones(3)"
      ],
      "metadata": {
        "id": "_cRRyWzOS82W"
      },
      "execution_count": null,
      "outputs": []
    },
    {
      "cell_type": "code",
      "source": [
        "a"
      ],
      "metadata": {
        "colab": {
          "base_uri": "https://localhost:8080/"
        },
        "id": "luskRxbsTIRK",
        "outputId": "c443c2bd-8762-497d-b328-e02d53e4d6d4"
      },
      "execution_count": null,
      "outputs": [
        {
          "output_type": "execute_result",
          "data": {
            "text/plain": [
              "tensor([1., 1., 1.])"
            ]
          },
          "metadata": {},
          "execution_count": 4
        }
      ]
    },
    {
      "cell_type": "code",
      "source": [
        "a[2] = 2.0"
      ],
      "metadata": {
        "id": "ppo9kEcXTKZr"
      },
      "execution_count": null,
      "outputs": []
    },
    {
      "cell_type": "code",
      "source": [
        "a"
      ],
      "metadata": {
        "colab": {
          "base_uri": "https://localhost:8080/"
        },
        "id": "ebHVxXdVTOCH",
        "outputId": "9a473031-3cfe-4508-fb24-dccda56b877e"
      },
      "execution_count": null,
      "outputs": [
        {
          "output_type": "execute_result",
          "data": {
            "text/plain": [
              "tensor([1., 1., 2.])"
            ]
          },
          "metadata": {},
          "execution_count": 6
        }
      ]
    },
    {
      "cell_type": "code",
      "source": [
        "points = torch.zeros(6)\n",
        "points[0] = 4.0\n",
        "points[1] = 1.0"
      ],
      "metadata": {
        "id": "CoHaHFNcTPCx"
      },
      "execution_count": null,
      "outputs": []
    },
    {
      "cell_type": "code",
      "source": [
        "points"
      ],
      "metadata": {
        "colab": {
          "base_uri": "https://localhost:8080/"
        },
        "id": "QC9wD-OfToxz",
        "outputId": "85f0f5d1-de91-4e34-ab5c-664de37e6f4c"
      },
      "execution_count": null,
      "outputs": [
        {
          "output_type": "execute_result",
          "data": {
            "text/plain": [
              "tensor([4., 1., 0., 0., 0., 0.])"
            ]
          },
          "metadata": {},
          "execution_count": 8
        }
      ]
    },
    {
      "cell_type": "code",
      "source": [
        "img_t = torch.randn(3,5,5)\n",
        "weights = torch.tensor([0.2126, 0.7152, 0.0722])"
      ],
      "metadata": {
        "id": "0b576NOgeX4S"
      },
      "execution_count": null,
      "outputs": []
    },
    {
      "cell_type": "code",
      "source": [
        "batch_t = torch.randn(2,3,5,5)\n",
        "batch_t"
      ],
      "metadata": {
        "colab": {
          "base_uri": "https://localhost:8080/"
        },
        "id": "q784pW3Nei8f",
        "outputId": "7eaf0b31-6da7-4cae-cc88-b337f09a1d00"
      },
      "execution_count": null,
      "outputs": [
        {
          "output_type": "execute_result",
          "data": {
            "text/plain": [
              "tensor([[[[ 1.2126, -0.9870, -0.1235,  0.6689, -1.7292],\n",
              "          [ 0.2367,  1.1719, -0.0121, -2.1460,  0.5383],\n",
              "          [ 2.4802, -0.0448, -0.1415, -0.9308,  0.7349],\n",
              "          [ 0.4649,  0.7798, -0.0568, -0.5921, -1.1069],\n",
              "          [ 0.3918, -0.7076, -0.5318, -0.5051,  0.0278]],\n",
              "\n",
              "         [[ 1.9048,  0.0241, -0.1389, -0.3063, -1.1184],\n",
              "          [-0.2694, -0.1618, -0.2302,  1.1694,  0.0705],\n",
              "          [-0.0654,  0.4681, -0.3578, -1.4997,  1.5710],\n",
              "          [-0.0426, -0.7476,  0.5425, -0.7394, -0.8362],\n",
              "          [ 0.1622,  1.2427,  1.4391,  0.2205, -0.6953]],\n",
              "\n",
              "         [[ 0.6238, -0.7304, -1.5239, -0.3359,  0.6473],\n",
              "          [ 0.2190, -0.9755, -0.0048, -0.5334,  0.3277],\n",
              "          [-1.5027, -0.3006,  0.6540,  1.0267,  0.7843],\n",
              "          [ 0.0164,  0.5647,  0.9152, -0.9275, -1.3885],\n",
              "          [ 0.6698,  0.8415, -0.0875,  0.9680,  0.2687]]],\n",
              "\n",
              "\n",
              "        [[[-1.6612,  0.3894, -0.1310, -0.3676, -0.1188],\n",
              "          [-1.1514,  1.8524,  0.2749,  0.8966, -2.3028],\n",
              "          [ 0.2916, -1.3664,  1.4272, -0.8133,  1.2031],\n",
              "          [-1.1923, -0.5563, -1.5478,  1.0875, -0.3159],\n",
              "          [ 0.1997, -0.5502, -0.5162, -0.8159, -2.3682]],\n",
              "\n",
              "         [[-1.0808,  0.5971, -1.2308,  0.5127, -0.6552],\n",
              "          [ 0.3976,  0.0976, -0.5481, -0.1633, -0.9704],\n",
              "          [ 0.7358, -0.7887,  0.9146,  0.1939,  0.1514],\n",
              "          [ 1.3546, -0.9235,  0.9002,  0.8634, -0.7497],\n",
              "          [-1.9741, -0.0674, -1.2344,  0.7182, -0.6255]],\n",
              "\n",
              "         [[-1.0035,  0.1763, -0.0605,  0.9748, -1.5967],\n",
              "          [ 1.0288, -1.7333, -0.4112, -0.1651,  1.9427],\n",
              "          [-0.4752, -1.7737,  0.4412, -0.3283, -0.5968],\n",
              "          [ 0.7117,  0.7460, -0.4478, -0.8303,  1.6666],\n",
              "          [ 0.9513, -0.3509, -2.1470, -0.3440,  0.5041]]]])"
            ]
          },
          "metadata": {},
          "execution_count": 11
        }
      ]
    },
    {
      "cell_type": "code",
      "source": [
        "img_gray_naive = img_t.mean(-3)\n",
        "batch_gray_naive = batch_t.mean(-3)\n",
        "img_gray_naive.shape, batch_gray_naive.shape"
      ],
      "metadata": {
        "colab": {
          "base_uri": "https://localhost:8080/"
        },
        "id": "CnzCUNv9lPII",
        "outputId": "c46d441f-1908-4418-a1fe-08946396ba67"
      },
      "execution_count": null,
      "outputs": [
        {
          "output_type": "execute_result",
          "data": {
            "text/plain": [
              "(torch.Size([5, 5]), torch.Size([2, 5, 5]))"
            ]
          },
          "metadata": {},
          "execution_count": 12
        }
      ]
    },
    {
      "cell_type": "code",
      "source": [
        "weights.shape, img_t.shape"
      ],
      "metadata": {
        "colab": {
          "base_uri": "https://localhost:8080/"
        },
        "id": "ls4UmdsSpRoc",
        "outputId": "d767c574-cd4e-47ea-dbc5-08a5976b65ca"
      },
      "execution_count": null,
      "outputs": [
        {
          "output_type": "execute_result",
          "data": {
            "text/plain": [
              "(torch.Size([3]), torch.Size([3, 5, 5]))"
            ]
          },
          "metadata": {},
          "execution_count": 22
        }
      ]
    },
    {
      "cell_type": "code",
      "source": [
        "unsqueezed_weights = weights.unsqueeze(-1).unsqueeze_(-1)   # 3 1 1\n",
        "img_weights = (img_t * unsqueezed_weights)  # 3 5 5 * 3 1 1 = 3 5 5\n",
        "print(img_weights.shape)\n",
        "batch_weights = (batch_t * unsqueezed_weights)  # 2 3 5 5 * 3 1 1 = 2 3 5 5\n",
        "print(batch_weights.shape, batch_t.shape)\n",
        "img_gray_weighted = img_weights.sum(-3)\n",
        "batch_gray_weighted = batch_weights.sum(-3)\n",
        "print(batch_weights.shape, batch_t.shape, unsqueezed_weights.shape)\n",
        "print(img_gray_weighted.shape, batch_gray_weighted.shape)"
      ],
      "metadata": {
        "colab": {
          "base_uri": "https://localhost:8080/"
        },
        "id": "KML_EDxll0nb",
        "outputId": "1b609ef5-d10a-4644-9205-0123dd7ddbe4"
      },
      "execution_count": null,
      "outputs": [
        {
          "output_type": "stream",
          "name": "stdout",
          "text": [
            "torch.Size([3, 5, 5])\n",
            "torch.Size([2, 3, 5, 5]) torch.Size([2, 3, 5, 5])\n",
            "torch.Size([2, 3, 5, 5]) torch.Size([2, 3, 5, 5]) torch.Size([3, 1, 1])\n",
            "torch.Size([5, 5]) torch.Size([2, 5, 5])\n"
          ]
        }
      ]
    },
    {
      "cell_type": "code",
      "source": [
        "img_gray_weighted_fancy = torch.einsum('...chw,c->...hw', img_t, weights)\n",
        "batch_gray_weighted_fancy = torch.einsum('...chw,c->...hw', batch_t, weights)\n",
        "img_gray_weighted_fancy.shape,batch_gray_weighted_fancy.shape"
      ],
      "metadata": {
        "colab": {
          "base_uri": "https://localhost:8080/"
        },
        "id": "IV9ccOeWqadK",
        "outputId": "72d85728-c457-444b-9194-444d40e32a03"
      },
      "execution_count": null,
      "outputs": [
        {
          "output_type": "execute_result",
          "data": {
            "text/plain": [
              "(torch.Size([5, 5]), torch.Size([2, 5, 5]))"
            ]
          },
          "metadata": {},
          "execution_count": 29
        }
      ]
    },
    {
      "cell_type": "code",
      "source": [
        "weights_named = torch.tensor([0.2126, 0.7152, 0.0722], names=['channels'])\n",
        "weights_named"
      ],
      "metadata": {
        "colab": {
          "base_uri": "https://localhost:8080/"
        },
        "id": "8cils1H8rPq3",
        "outputId": "53553489-be8b-4af1-991a-539c58518695"
      },
      "execution_count": null,
      "outputs": [
        {
          "output_type": "stream",
          "name": "stderr",
          "text": [
            "<ipython-input-30-847ddfeff394>:1: UserWarning: Named tensors and all their associated APIs are an experimental feature and subject to change. Please do not use them for anything important until they are released as stable. (Triggered internally at ../c10/core/TensorImpl.h:1788.)\n",
            "  weights_named = torch.tensor([0.2126, 0.7152, 0.0722], names=['channels'])\n"
          ]
        },
        {
          "output_type": "execute_result",
          "data": {
            "text/plain": [
              "tensor([0.2126, 0.7152, 0.0722], names=('channels',))"
            ]
          },
          "metadata": {},
          "execution_count": 30
        }
      ]
    },
    {
      "cell_type": "code",
      "source": [
        "img_named = img_t.refine_names(..., 'channels', 'rows', 'columns')\n",
        "batch_named = batch_t.refine_names(..., 'channels', 'rows', 'columns')\n",
        "print(\"img named:\", img_named.shape, img_named.names)\n",
        "print(\"batch named:\", batch_named.shape, batch_named.names)"
      ],
      "metadata": {
        "colab": {
          "base_uri": "https://localhost:8080/"
        },
        "id": "CZXt14Z2rsz-",
        "outputId": "2ca696d9-b3aa-403d-99f9-771adb5a8138"
      },
      "execution_count": null,
      "outputs": [
        {
          "output_type": "stream",
          "name": "stdout",
          "text": [
            "img named: torch.Size([3, 5, 5]) ('channels', 'rows', 'columns')\n",
            "batch named: torch.Size([2, 3, 5, 5]) (None, 'channels', 'rows', 'columns')\n"
          ]
        }
      ]
    },
    {
      "cell_type": "code",
      "source": [
        "weights_aligned = weights_named.align_as(img_named)\n",
        "weights_aligned.shape, img_named.shape, weights_named.shape"
      ],
      "metadata": {
        "colab": {
          "base_uri": "https://localhost:8080/"
        },
        "id": "-Siw6Y35sPyi",
        "outputId": "6b76838d-22d3-426f-e464-b0470142f6a8"
      },
      "execution_count": null,
      "outputs": [
        {
          "output_type": "execute_result",
          "data": {
            "text/plain": [
              "(torch.Size([3, 1, 1]), torch.Size([3, 5, 5]), torch.Size([3]))"
            ]
          },
          "metadata": {},
          "execution_count": 34
        }
      ]
    },
    {
      "cell_type": "code",
      "source": [
        "gray_named = (img_named * weights_aligned).sum('channels')\n",
        "gray_named.shape, gray_named.names"
      ],
      "metadata": {
        "colab": {
          "base_uri": "https://localhost:8080/"
        },
        "id": "cNcWz3PqtHGZ",
        "outputId": "3dce5785-a072-48b1-8575-301a8fd943a8"
      },
      "execution_count": null,
      "outputs": [
        {
          "output_type": "execute_result",
          "data": {
            "text/plain": [
              "(torch.Size([5, 5]), ('rows', 'columns'))"
            ]
          },
          "metadata": {},
          "execution_count": 35
        }
      ]
    },
    {
      "cell_type": "code",
      "source": [
        "gray_named2 = (img_named[..., :3] * weights_named).sum('channels34')"
      ],
      "metadata": {
        "colab": {
          "base_uri": "https://localhost:8080/",
          "height": 173
        },
        "id": "vNgZiVJWtaAn",
        "outputId": "95c77d70-ae5b-4de0-992b-16b2eb28541a"
      },
      "execution_count": null,
      "outputs": [
        {
          "output_type": "error",
          "ename": "RuntimeError",
          "evalue": "ignored",
          "traceback": [
            "\u001b[0;31m---------------------------------------------------------------------------\u001b[0m",
            "\u001b[0;31mRuntimeError\u001b[0m                              Traceback (most recent call last)",
            "\u001b[0;32m<ipython-input-36-49d87f2b3829>\u001b[0m in \u001b[0;36m<cell line: 1>\u001b[0;34m()\u001b[0m\n\u001b[0;32m----> 1\u001b[0;31m \u001b[0mgray_named2\u001b[0m \u001b[0;34m=\u001b[0m \u001b[0;34m(\u001b[0m\u001b[0mimg_named\u001b[0m\u001b[0;34m[\u001b[0m\u001b[0;34m...\u001b[0m\u001b[0;34m,\u001b[0m \u001b[0;34m:\u001b[0m\u001b[0;36m3\u001b[0m\u001b[0;34m]\u001b[0m \u001b[0;34m*\u001b[0m \u001b[0mweights_named\u001b[0m\u001b[0;34m)\u001b[0m\u001b[0;34m.\u001b[0m\u001b[0msum\u001b[0m\u001b[0;34m(\u001b[0m\u001b[0;34m'channels'\u001b[0m\u001b[0;34m)\u001b[0m\u001b[0;34m\u001b[0m\u001b[0;34m\u001b[0m\u001b[0m\n\u001b[0m",
            "\u001b[0;31mRuntimeError\u001b[0m: Error when attempting to broadcast dims ['channels', 'rows', 'columns'] and dims ['channels']: dim 'columns' and dim 'channels' are at the same position from the right but do not match."
          ]
        }
      ]
    },
    {
      "cell_type": "code",
      "source": [
        "double_points = torch.ones(10,2,dtype=torch.double)\n",
        "short_points = torch.tensor([[1,2], [3,4]], dtype=torch.short)"
      ],
      "metadata": {
        "id": "HC9SQ17nuUq1"
      },
      "execution_count": null,
      "outputs": []
    },
    {
      "cell_type": "code",
      "source": [
        "double_points.dtype, short_points.dtype"
      ],
      "metadata": {
        "colab": {
          "base_uri": "https://localhost:8080/"
        },
        "id": "zU98U_9GwpIE",
        "outputId": "6fd36b2c-1224-4928-b1a2-a86102a243c5"
      },
      "execution_count": null,
      "outputs": [
        {
          "output_type": "execute_result",
          "data": {
            "text/plain": [
              "(torch.float64, torch.int16)"
            ]
          },
          "metadata": {},
          "execution_count": 40
        }
      ]
    },
    {
      "cell_type": "code",
      "source": [
        "points_64 = torch.rand(5, dtype=torch.double)\n",
        "points_short = points_64.to(torch.short)\n",
        "points_64 * points_short"
      ],
      "metadata": {
        "colab": {
          "base_uri": "https://localhost:8080/"
        },
        "id": "6pSfcFyAwsEF",
        "outputId": "3776038d-fd8f-48bc-f65d-c959c30c8f77"
      },
      "execution_count": null,
      "outputs": [
        {
          "output_type": "execute_result",
          "data": {
            "text/plain": [
              "tensor([0., 0., 0., 0., 0.], dtype=torch.float64)"
            ]
          },
          "metadata": {},
          "execution_count": 41
        }
      ]
    },
    {
      "cell_type": "code",
      "source": [
        "points = torch.tensor([[4.0, 1.0], [5.0,3.0],[2.0,1.0]])\n",
        "points.storage()"
      ],
      "metadata": {
        "colab": {
          "base_uri": "https://localhost:8080/"
        },
        "id": "TGnXv2pP0Ta5",
        "outputId": "4f1f699a-4fc8-4c49-a8e6-068db3e3e0e0"
      },
      "execution_count": null,
      "outputs": [
        {
          "output_type": "stream",
          "name": "stderr",
          "text": [
            "<ipython-input-43-76de1edb35b1>:2: UserWarning: TypedStorage is deprecated. It will be removed in the future and UntypedStorage will be the only storage class. This should only matter to you if you are using storages directly.  To access UntypedStorage directly, use tensor.untyped_storage() instead of tensor.storage()\n",
            "  points.storage()\n"
          ]
        },
        {
          "output_type": "execute_result",
          "data": {
            "text/plain": [
              " 4.0\n",
              " 1.0\n",
              " 5.0\n",
              " 3.0\n",
              " 2.0\n",
              " 1.0\n",
              "[torch.storage.TypedStorage(dtype=torch.float32, device=cpu) of size 6]"
            ]
          },
          "metadata": {},
          "execution_count": 43
        }
      ]
    },
    {
      "cell_type": "code",
      "source": [
        "points_storage = points.storage()\n",
        "points_storage[0]"
      ],
      "metadata": {
        "colab": {
          "base_uri": "https://localhost:8080/"
        },
        "id": "9mkIuYFm86aI",
        "outputId": "046fc53f-2d6b-4997-ad49-23c14a4f178a"
      },
      "execution_count": null,
      "outputs": [
        {
          "output_type": "execute_result",
          "data": {
            "text/plain": [
              "4.0"
            ]
          },
          "metadata": {},
          "execution_count": 44
        }
      ]
    },
    {
      "cell_type": "code",
      "source": [
        "points_storage[0] = 2.0\n",
        "points"
      ],
      "metadata": {
        "colab": {
          "base_uri": "https://localhost:8080/"
        },
        "id": "CQH-zKY39Hf9",
        "outputId": "7db3f8f7-68af-4db6-ead1-3867666a8c6f"
      },
      "execution_count": null,
      "outputs": [
        {
          "output_type": "execute_result",
          "data": {
            "text/plain": [
              "tensor([[2., 1.],\n",
              "        [5., 3.],\n",
              "        [2., 1.]])"
            ]
          },
          "metadata": {},
          "execution_count": 45
        }
      ]
    },
    {
      "cell_type": "code",
      "source": [
        "a = torch.ones(3,2)\n",
        "print(a)\n",
        "a.zero_()\n",
        "print(a)"
      ],
      "metadata": {
        "colab": {
          "base_uri": "https://localhost:8080/"
        },
        "id": "tJ7kkXD4-dwO",
        "outputId": "ff62bca2-56db-428a-a472-0ece76fb1322"
      },
      "execution_count": null,
      "outputs": [
        {
          "output_type": "stream",
          "name": "stdout",
          "text": [
            "tensor([[1., 1.],\n",
            "        [1., 1.],\n",
            "        [1., 1.]])\n",
            "tensor([[0., 0.],\n",
            "        [0., 0.],\n",
            "        [0., 0.]])\n"
          ]
        }
      ]
    },
    {
      "cell_type": "code",
      "source": [
        "points = torch.tensor([[4.0,1.0], [5.0,3.0],[2.0,1.0]])\n",
        "second_point = points[2]\n",
        "second_point.storage_offset()"
      ],
      "metadata": {
        "colab": {
          "base_uri": "https://localhost:8080/"
        },
        "id": "fWmwRqNTbbzd",
        "outputId": "7d956a20-a170-44e3-9f9a-e7d2d7c1977b"
      },
      "execution_count": null,
      "outputs": [
        {
          "output_type": "execute_result",
          "data": {
            "text/plain": [
              "4"
            ]
          },
          "metadata": {},
          "execution_count": 51
        }
      ]
    },
    {
      "cell_type": "code",
      "source": [
        "second_point.size()"
      ],
      "metadata": {
        "colab": {
          "base_uri": "https://localhost:8080/"
        },
        "id": "G62Z-GhlbxfW",
        "outputId": "6c53f820-c625-443c-c7c6-6330c3e13d8b"
      },
      "execution_count": null,
      "outputs": [
        {
          "output_type": "execute_result",
          "data": {
            "text/plain": [
              "torch.Size([2])"
            ]
          },
          "metadata": {},
          "execution_count": 53
        }
      ]
    },
    {
      "cell_type": "code",
      "source": [
        "points.stride()"
      ],
      "metadata": {
        "colab": {
          "base_uri": "https://localhost:8080/"
        },
        "id": "vcSzZD-WcSrn",
        "outputId": "6fa45f25-dbf6-4f51-d979-af398d97a70f"
      },
      "execution_count": null,
      "outputs": [
        {
          "output_type": "execute_result",
          "data": {
            "text/plain": [
              "(2, 1)"
            ]
          },
          "metadata": {},
          "execution_count": 54
        }
      ]
    },
    {
      "cell_type": "code",
      "source": [
        "second_point.stride()"
      ],
      "metadata": {
        "colab": {
          "base_uri": "https://localhost:8080/"
        },
        "id": "LytbgLfzcT3f",
        "outputId": "6c80b742-bbdd-4dd2-a0af-34cd099a3c7c"
      },
      "execution_count": null,
      "outputs": [
        {
          "output_type": "execute_result",
          "data": {
            "text/plain": [
              "(1,)"
            ]
          },
          "metadata": {},
          "execution_count": 55
        }
      ]
    },
    {
      "cell_type": "code",
      "source": [
        "import torch\n",
        "points = torch.tensor([[4.0,1.0], [5.0,3.0],[2.0,1.0]])\n",
        "points"
      ],
      "metadata": {
        "id": "W1IS8IfSczFO",
        "colab": {
          "base_uri": "https://localhost:8080/"
        },
        "outputId": "1ba8a00c-8706-43c3-b293-63122bfd8dbc"
      },
      "execution_count": null,
      "outputs": [
        {
          "output_type": "execute_result",
          "data": {
            "text/plain": [
              "tensor([[4., 1.],\n",
              "        [5., 3.],\n",
              "        [2., 1.]])"
            ]
          },
          "metadata": {},
          "execution_count": 4
        }
      ]
    },
    {
      "cell_type": "code",
      "source": [
        "points_t = points.t()\n",
        "points_t"
      ],
      "metadata": {
        "colab": {
          "base_uri": "https://localhost:8080/"
        },
        "id": "l8Z6iAR2RZx_",
        "outputId": "f0e89129-7697-4e86-eba8-d1e101190fe9"
      },
      "execution_count": null,
      "outputs": [
        {
          "output_type": "execute_result",
          "data": {
            "text/plain": [
              "tensor([[4., 5., 2.],\n",
              "        [1., 3., 1.]])"
            ]
          },
          "metadata": {},
          "execution_count": 4
        }
      ]
    },
    {
      "cell_type": "code",
      "source": [
        "print(id(points.storage()))\n",
        "print(id(points_t.storage()))"
      ],
      "metadata": {
        "colab": {
          "base_uri": "https://localhost:8080/"
        },
        "id": "505JGU9FRzdq",
        "outputId": "8e202d12-8e99-4cfa-ad62-2c31563b7c9b"
      },
      "execution_count": null,
      "outputs": [
        {
          "output_type": "stream",
          "name": "stdout",
          "text": [
            "140195186351344\n",
            "140195186350960\n"
          ]
        }
      ]
    },
    {
      "cell_type": "code",
      "source": [
        "id(points.storage()) == id(points_t.storage())"
      ],
      "metadata": {
        "colab": {
          "base_uri": "https://localhost:8080/"
        },
        "id": "0cDyeLLjRdOo",
        "outputId": "07c2f920-0a93-4213-fa33-45a5d521cce3"
      },
      "execution_count": null,
      "outputs": [
        {
          "output_type": "execute_result",
          "data": {
            "text/plain": [
              "False"
            ]
          },
          "metadata": {},
          "execution_count": 6
        }
      ]
    },
    {
      "cell_type": "code",
      "source": [
        "print(points.stride())\n",
        "print(points_t.stride())"
      ],
      "metadata": {
        "colab": {
          "base_uri": "https://localhost:8080/"
        },
        "id": "qttZ7HT9R_gn",
        "outputId": "87ff5efd-d15a-4b67-b0d3-e19cdd28a33f"
      },
      "execution_count": null,
      "outputs": [
        {
          "output_type": "stream",
          "name": "stdout",
          "text": [
            "(2, 1)\n",
            "(1, 2)\n"
          ]
        }
      ]
    },
    {
      "cell_type": "code",
      "source": [
        "import torch\n",
        "points_gpu = torch.tensor([[4, 1], [5.,3.], [2., 1.]], device='cuda')\n",
        "points_gpu"
      ],
      "metadata": {
        "colab": {
          "base_uri": "https://localhost:8080/"
        },
        "id": "2zSv2S6WWZwD",
        "outputId": "fc88a1ce-b458-49ff-b818-d1563a552869"
      },
      "execution_count": null,
      "outputs": [
        {
          "output_type": "execute_result",
          "data": {
            "text/plain": [
              "tensor([[4., 1.],\n",
              "        [5., 3.],\n",
              "        [2., 1.]], device='cuda:0')"
            ]
          },
          "metadata": {},
          "execution_count": 2
        }
      ]
    },
    {
      "cell_type": "code",
      "source": [
        "points = 2 * points\n",
        "points_gpu = 2 * points.to(device='cuda')"
      ],
      "metadata": {
        "id": "0bfVOtEfW90p"
      },
      "execution_count": null,
      "outputs": []
    },
    {
      "cell_type": "code",
      "source": [
        "points_gpu = points_gpu + 4"
      ],
      "metadata": {
        "id": "Ip4-NUJzXM_O"
      },
      "execution_count": null,
      "outputs": []
    },
    {
      "cell_type": "code",
      "source": [
        "points_cpu = points_gpu.to(device='cpu')"
      ],
      "metadata": {
        "id": "rj9tVUnPXSfy"
      },
      "execution_count": null,
      "outputs": []
    },
    {
      "cell_type": "code",
      "source": [
        "points_gpu = points.cuda()\n",
        "points_gpu = points.cuda(0)\n",
        "points_cpu = points_gpu.cpu()"
      ],
      "metadata": {
        "id": "OFvlJW3wXYTP"
      },
      "execution_count": null,
      "outputs": []
    },
    {
      "cell_type": "code",
      "source": [
        "points = torch.ones(3,4)\n",
        "points_np = points.numpy()\n",
        "points_np"
      ],
      "metadata": {
        "colab": {
          "base_uri": "https://localhost:8080/"
        },
        "id": "6zbXAj5OXise",
        "outputId": "ec9dee12-fc79-4657-851b-07881558a524"
      },
      "execution_count": null,
      "outputs": [
        {
          "output_type": "execute_result",
          "data": {
            "text/plain": [
              "array([[1., 1., 1., 1.],\n",
              "       [1., 1., 1., 1.],\n",
              "       [1., 1., 1., 1.]], dtype=float32)"
            ]
          },
          "metadata": {},
          "execution_count": 9
        }
      ]
    },
    {
      "cell_type": "code",
      "source": [
        "points = torch.from_numpy(points_np)\n",
        "points.dtype"
      ],
      "metadata": {
        "colab": {
          "base_uri": "https://localhost:8080/"
        },
        "id": "_a5trFRbXx0o",
        "outputId": "67384c9c-8321-4dd4-dae4-88b97f2e0318"
      },
      "execution_count": null,
      "outputs": [
        {
          "output_type": "execute_result",
          "data": {
            "text/plain": [
              "torch.float32"
            ]
          },
          "metadata": {},
          "execution_count": 14
        }
      ]
    },
    {
      "cell_type": "code",
      "source": [
        "%cd dlwpt-code"
      ],
      "metadata": {
        "colab": {
          "base_uri": "https://localhost:8080/"
        },
        "id": "2mRRL-EwZcOj",
        "outputId": "ac359e0f-f1d1-497e-c546-3169c07ca401"
      },
      "execution_count": null,
      "outputs": [
        {
          "output_type": "stream",
          "name": "stdout",
          "text": [
            "/content/dlwpt-code\n"
          ]
        }
      ]
    },
    {
      "cell_type": "code",
      "source": [
        "points = torch.load(\"/content/dlwpt-code/data/p1ch3/ourpoints.t\")"
      ],
      "metadata": {
        "id": "_MJvdxmgZvF7"
      },
      "execution_count": null,
      "outputs": []
    },
    {
      "cell_type": "code",
      "source": [
        "points"
      ],
      "metadata": {
        "colab": {
          "base_uri": "https://localhost:8080/"
        },
        "id": "LursCkBoaIK4",
        "outputId": "b3464ab7-2d03-4bc5-d39a-1c315c727fa2"
      },
      "execution_count": null,
      "outputs": [
        {
          "output_type": "execute_result",
          "data": {
            "text/plain": [
              "tensor([[1., 1., 1., 1.],\n",
              "        [1., 1., 1., 1.],\n",
              "        [1., 1., 1., 1.]])"
            ]
          },
          "metadata": {},
          "execution_count": 20
        }
      ]
    },
    {
      "cell_type": "code",
      "source": [
        "ex1 = list(range(9))\n",
        "print(ex1)\n",
        "a = torch.tensor(ex1)\n",
        "print(a)\n",
        "print(a.shape)\n",
        "print(a.storage_offset())\n",
        "print(a.stride())"
      ],
      "metadata": {
        "colab": {
          "base_uri": "https://localhost:8080/"
        },
        "id": "hVPrIeSsaYu5",
        "outputId": "1ce51fc0-c20e-4f45-87e8-63b15b545166"
      },
      "execution_count": null,
      "outputs": [
        {
          "output_type": "stream",
          "name": "stdout",
          "text": [
            "[0, 1, 2, 3, 4, 5, 6, 7, 8]\n",
            "tensor([0, 1, 2, 3, 4, 5, 6, 7, 8])\n",
            "torch.Size([9])\n",
            "0\n",
            "(1,)\n"
          ]
        }
      ]
    },
    {
      "cell_type": "code",
      "source": [
        "b = a.view(3,3)\n",
        "print(b)\n",
        "print(b.storage_offset())\n",
        "print(id(a.storage))\n",
        "print(id(b.storage))"
      ],
      "metadata": {
        "colab": {
          "base_uri": "https://localhost:8080/"
        },
        "id": "be22cNCWbbPr",
        "outputId": "569d1bfb-05bc-4ae5-cf44-b1b24bfd5ad3"
      },
      "execution_count": null,
      "outputs": [
        {
          "output_type": "stream",
          "name": "stdout",
          "text": [
            "tensor([[0, 1, 2],\n",
            "        [3, 4, 5],\n",
            "        [6, 7, 8]])\n",
            "0\n",
            "140598517222080\n",
            "140594147480320\n"
          ]
        }
      ]
    },
    {
      "cell_type": "code",
      "source": [
        "c = b[1:, 1:]\n",
        "print(c)\n",
        "print(c.storage())\n",
        "print(c.shape)\n",
        "print(c.storage_offset())\n",
        "print(c.stride())"
      ],
      "metadata": {
        "colab": {
          "base_uri": "https://localhost:8080/"
        },
        "id": "mV5BEQhxbqnW",
        "outputId": "b55e4e82-95a1-446e-e768-3a57d7500284"
      },
      "execution_count": null,
      "outputs": [
        {
          "output_type": "stream",
          "name": "stdout",
          "text": [
            "tensor([[4, 5],\n",
            "        [7, 8]])\n",
            " 0\n",
            " 1\n",
            " 2\n",
            " 3\n",
            " 4\n",
            " 5\n",
            " 6\n",
            " 7\n",
            " 8\n",
            "[torch.storage.TypedStorage(dtype=torch.int64, device=cpu) of size 9]\n",
            "torch.Size([2, 2])\n",
            "4\n",
            "(3, 1)\n"
          ]
        }
      ]
    },
    {
      "cell_type": "code",
      "source": [
        "torch.cos(a)"
      ],
      "metadata": {
        "colab": {
          "base_uri": "https://localhost:8080/"
        },
        "id": "AjC8TID7cZ9A",
        "outputId": "10adc27a-216c-43de-9d27-1b1d708c4bf6"
      },
      "execution_count": null,
      "outputs": [
        {
          "output_type": "execute_result",
          "data": {
            "text/plain": [
              "tensor([ 1.0000,  0.5403, -0.4161, -0.9900, -0.6536,  0.2837,  0.9602,  0.7539,\n",
              "        -0.1455])"
            ]
          },
          "metadata": {},
          "execution_count": 51
        }
      ]
    }
  ]
}