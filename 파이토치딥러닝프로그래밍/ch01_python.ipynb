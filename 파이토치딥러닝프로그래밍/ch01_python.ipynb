{
  "cells": [
    {
      "cell_type": "markdown",
      "metadata": {
        "id": "view-in-github",
        "colab_type": "text"
      },
      "source": [
        "<a href=\"https://colab.research.google.com/github/k00dj-19/pytorch_study/blob/main/%ED%8C%8C%EC%9D%B4%ED%86%A0%EC%B9%98%EB%94%A5%EB%9F%AC%EB%8B%9D%ED%94%84%EB%A1%9C%EA%B7%B8%EB%9E%98%EB%B0%8D/ch01_python.ipynb\" target=\"_parent\"><img src=\"https://colab.research.google.com/assets/colab-badge.svg\" alt=\"Open In Colab\"/></a>"
      ]
    },
    {
      "cell_type": "markdown",
      "metadata": {
        "id": "yoLOS2ohPSo-"
      },
      "source": [
        "# 1장 파이썬 입문\n",
        "파이토치를 사용한 딥러닝 프로그래밍에서 중요한 개념을 위주로 설명한다."
      ]
    },
    {
      "cell_type": "markdown",
      "source": [
        "* \"부록3 매트플롯립 입문\"에서 한글 폰트를 올바르게 출력하기 위한 설치 방법을 설명했다. 설치 방법은 다음과 같다."
      ],
      "metadata": {
        "id": "4NPAfuTlGuhY"
      }
    },
    {
      "cell_type": "code",
      "source": [
        "!sudo apt-get install -y fonts-nanum* | tail -n 1\n",
        "!sudo fc-cache -fv\n",
        "!rm -rf ~/.cache/matplotlib"
      ],
      "metadata": {
        "colab": {
          "base_uri": "https://localhost:8080/"
        },
        "id": "yKW4iAf9E27k",
        "outputId": "a3a8373f-b7f6-434b-afb6-0c09fb9a8c37"
      },
      "execution_count": 1,
      "outputs": [
        {
          "output_type": "stream",
          "name": "stdout",
          "text": [
            "debconf: unable to initialize frontend: Dialog\n",
            "debconf: (No usable dialog-like program is installed, so the dialog based frontend cannot be used. at /usr/share/perl5/Debconf/FrontEnd/Dialog.pm line 76, <> line 4.)\n",
            "debconf: falling back to frontend: Readline\n",
            "debconf: unable to initialize frontend: Readline\n",
            "debconf: (This frontend requires a controlling tty.)\n",
            "debconf: falling back to frontend: Teletype\n",
            "dpkg-preconfigure: unable to re-open stdin: \n",
            "Processing triggers for fontconfig (2.13.1-2ubuntu3) ...\n",
            "/usr/share/fonts: caching, new cache contents: 0 fonts, 1 dirs\n",
            "/usr/share/fonts/truetype: caching, new cache contents: 0 fonts, 3 dirs\n",
            "/usr/share/fonts/truetype/humor-sans: caching, new cache contents: 1 fonts, 0 dirs\n",
            "/usr/share/fonts/truetype/liberation: caching, new cache contents: 16 fonts, 0 dirs\n",
            "/usr/share/fonts/truetype/nanum: caching, new cache contents: 31 fonts, 0 dirs\n",
            "/usr/local/share/fonts: caching, new cache contents: 0 fonts, 0 dirs\n",
            "/root/.local/share/fonts: skipping, no such directory\n",
            "/root/.fonts: skipping, no such directory\n",
            "/usr/share/fonts/truetype: skipping, looped directory detected\n",
            "/usr/share/fonts/truetype/humor-sans: skipping, looped directory detected\n",
            "/usr/share/fonts/truetype/liberation: skipping, looped directory detected\n",
            "/usr/share/fonts/truetype/nanum: skipping, looped directory detected\n",
            "/var/cache/fontconfig: cleaning cache directory\n",
            "/root/.cache/fontconfig: not cleaning non-existent cache directory\n",
            "/root/.fontconfig: not cleaning non-existent cache directory\n",
            "fc-cache: succeeded\n"
          ]
        }
      ]
    },
    {
      "cell_type": "markdown",
      "source": [
        "* 모든 설치가 끝나면 한글 폰트를 바르게 출력하기 위해 **[런타임]** -> **[런타임 다시시작]**을 클릭한 다음, 아래 셀부터 코드를 실행해 주십시오."
      ],
      "metadata": {
        "id": "hCaiKZNeF9cm"
      }
    },
    {
      "cell_type": "code",
      "execution_count": 1,
      "metadata": {
        "id": "zR8TJdQQPSpD"
      },
      "outputs": [],
      "source": [
        "# 라이브러리 임포트\n",
        "\n",
        "%matplotlib inline\n",
        "import numpy as np\n",
        "import matplotlib.pyplot as plt\n",
        "from IPython.display import display\n",
        "\n",
        "# 폰트 관련 용도\n",
        "import matplotlib.font_manager as fm\n",
        "\n",
        "# 나눔 고딕 폰트의 경로 명시\n",
        "path = '/usr/share/fonts/truetype/nanum/NanumGothic.ttf'\n",
        "font_name = fm.FontProperties(fname=path, size=10).get_name()"
      ]
    },
    {
      "cell_type": "code",
      "source": [
        "# 파이토치 관련 라이브러리\n",
        "import torch"
      ],
      "metadata": {
        "id": "4PLN6lk1GQ19"
      },
      "execution_count": 2,
      "outputs": []
    },
    {
      "cell_type": "code",
      "execution_count": 3,
      "metadata": {
        "id": "ysxb8LzbPSpD"
      },
      "outputs": [],
      "source": [
        "# 기본 폰트 설정\n",
        "plt.rcParams['font.family'] = font_name\n",
        "\n",
        "# 기본 폰트 사이즈 변경\n",
        "plt.rcParams['font.size'] = 14\n",
        "\n",
        "# 기본 그래프 사이즈 변경\n",
        "plt.rcParams['figure.figsize'] = (6,6)\n",
        "\n",
        "# 기본 그리드 표시\n",
        "# 필요에 따라 설정할 때는, plt.grid()\n",
        "plt.rcParams['axes.grid'] = True\n",
        "\n",
        "# 마이너스 기호 정상 출력\n",
        "plt.rcParams['axes.unicode_minus'] = False\n",
        "\n",
        "# 넘파이 부동소수점 자릿수 표시\n",
        "np.set_printoptions(suppress=True, precision=4)"
      ]
    },
    {
      "cell_type": "markdown",
      "metadata": {
        "id": "zvXRG-ruPSpE"
      },
      "source": [
        "## 1.2 컨테이너 타입 변수에 주의\n",
        "파이썬에서 변수는 단지 실제 데이터 구조로 향하는 포인터에 지나지 않는다.\n",
        "넘파이 배열 등에서는 이 점을 의식하지 않으면 생각지도 못한 결과를 초래하는 경우가 있다."
      ]
    },
    {
      "cell_type": "markdown",
      "metadata": {
        "id": "UvPbw0jYPSpE"
      },
      "source": [
        "### 넘파이 변수 간"
      ]
    },
    {
      "cell_type": "code",
      "execution_count": 4,
      "metadata": {
        "id": "mE8yGhNqPSpE",
        "colab": {
          "base_uri": "https://localhost:8080/"
        },
        "outputId": "4e3807b3-5f43-48bc-e970-c75799c9f3a4"
      },
      "outputs": [
        {
          "output_type": "stream",
          "name": "stdout",
          "text": [
            "[5 7 9]\n",
            "[5 7 9]\n"
          ]
        }
      ],
      "source": [
        "# 넘파이 배열 x를 정의\n",
        "x = np.array([5, 7, 9])\n",
        "\n",
        "# 변수 y에 x를 대입\n",
        "y = x\n",
        "\n",
        "# 결과 확인\n",
        "print(x)\n",
        "print(y)"
      ]
    },
    {
      "cell_type": "code",
      "execution_count": 5,
      "metadata": {
        "id": "hdmNhQOZPSpE",
        "colab": {
          "base_uri": "https://localhost:8080/"
        },
        "outputId": "334db7fc-29fe-4046-8dd6-fb7692ef337b"
      },
      "outputs": [
        {
          "output_type": "stream",
          "name": "stdout",
          "text": [
            "[ 5 -1  9]\n",
            "[ 5 -1  9]\n"
          ]
        }
      ],
      "source": [
        "# x의 특정 요소를 변경\n",
        "x[1] = -1\n",
        "\n",
        "# y도 따라서 값이 바뀜\n",
        "print(x)\n",
        "print(y)"
      ]
    },
    {
      "cell_type": "code",
      "execution_count": 6,
      "metadata": {
        "id": "l9H3CjJtPSpE",
        "colab": {
          "base_uri": "https://localhost:8080/"
        },
        "outputId": "7ab89f01-1bb3-401d-93b6-05e78cfa10bb"
      },
      "outputs": [
        {
          "output_type": "stream",
          "name": "stdout",
          "text": [
            "[ 5 -1  9]\n",
            "[5 7 9]\n"
          ]
        }
      ],
      "source": [
        "# y도 동시에 변하면 안되는 경우는, 대입 시 copy 함수를 이용함\n",
        "x = np.array([5, 7, 9])\n",
        "y = x.copy()\n",
        "\n",
        "# x의 특정 요소 값이 변해도, y에는 영향이 없음\n",
        "x[1] = -1\n",
        "print(x)\n",
        "print(y)"
      ]
    },
    {
      "cell_type": "markdown",
      "metadata": {
        "id": "6Xm1XIpBPSpE"
      },
      "source": [
        "### 텐서와 넘파이 변수 간"
      ]
    },
    {
      "cell_type": "code",
      "execution_count": 7,
      "metadata": {
        "id": "FPkiYCioPSpF",
        "colab": {
          "base_uri": "https://localhost:8080/"
        },
        "outputId": "39de3d0d-262d-4512-c3d9-cfa54d801fdf"
      },
      "outputs": [
        {
          "output_type": "stream",
          "name": "stdout",
          "text": [
            "tensor([1., 1., 1., 1., 1.])\n",
            "[1. 1. 1. 1. 1.]\n"
          ]
        }
      ],
      "source": [
        "import torch\n",
        "\n",
        "# x1: shape=[5]가 되는 모든 값이 1인 텐서\n",
        "x1 = torch.ones(5)\n",
        "\n",
        "# 결과 확인\n",
        "print(x1)\n",
        "\n",
        "# x2: x1로부터 생성한 넘파이 배열\n",
        "x2 = x1.data.numpy()\n",
        "\n",
        "# 결과 확인\n",
        "print(x2)"
      ]
    },
    {
      "cell_type": "code",
      "execution_count": 8,
      "metadata": {
        "id": "E-SoSD6qPSpF",
        "colab": {
          "base_uri": "https://localhost:8080/"
        },
        "outputId": "43a09129-22af-4d77-ceb0-9d6efa72873e"
      },
      "outputs": [
        {
          "output_type": "stream",
          "name": "stdout",
          "text": [
            "tensor([ 1., -1.,  1.,  1.,  1.])\n",
            "[ 1. -1.  1.  1.  1.]\n"
          ]
        }
      ],
      "source": [
        "# x1의 값을 변경\n",
        "x1[1] = -1\n",
        "\n",
        "# x2의 값도 같이 변함\n",
        "print(x1)\n",
        "print(x2)"
      ]
    },
    {
      "cell_type": "code",
      "execution_count": 11,
      "metadata": {
        "id": "fLRAG-SLPSpF",
        "colab": {
          "base_uri": "https://localhost:8080/"
        },
        "outputId": "814a9a6b-33bf-476f-d216-60a6437175ff"
      },
      "outputs": [
        {
          "output_type": "stream",
          "name": "stdout",
          "text": [
            "tensor([ 1., -1.,  1.,  1.,  1.])\n",
            "[1. 1. 1. 1. 1.]\n",
            "tensor([ 1., -1.,  1.,  1.,  1.])\n"
          ]
        }
      ],
      "source": [
        "# 안전한 방법\n",
        "\n",
        "# x1: 텐서\n",
        "x1 = torch.ones(5)\n",
        "\n",
        "# x2: x1를 copy한 넘파이\n",
        "x2 = x1.data.numpy().copy()\n",
        "x3 = x1.data\n",
        "x1[1] = -1\n",
        "\n",
        "\n",
        "# 결과 확인\n",
        "print(x1)\n",
        "print(x2)\n",
        "print(x3)"
      ]
    },
    {
      "cell_type": "markdown",
      "metadata": {
        "id": "jAwsog3qPSpF"
      },
      "source": [
        "## 1.3 ‘합성 함수’를 파이썬으로 구현하기\n",
        "수학에서 합성함수가 파이썬에서 어떻게 구현되는지 확인한다."
      ]
    },
    {
      "cell_type": "markdown",
      "metadata": {
        "id": "LYchZiipPSpF"
      },
      "source": [
        "$f(x) = 2x^2 + 2$를 함수로 정의한다."
      ]
    },
    {
      "cell_type": "code",
      "execution_count": 12,
      "metadata": {
        "id": "3CqF27_GPSpF"
      },
      "outputs": [],
      "source": [
        "def f(x):\n",
        "    return (2 * x**2 + 2)"
      ]
    },
    {
      "cell_type": "code",
      "execution_count": 13,
      "metadata": {
        "id": "OiJN2YuVPSpF",
        "colab": {
          "base_uri": "https://localhost:8080/"
        },
        "outputId": "a6f472ac-c145-42cc-dc61-e29c3320c6bd"
      },
      "outputs": [
        {
          "output_type": "stream",
          "name": "stdout",
          "text": [
            "[-2.   -1.75 -1.5  -1.25 -1.   -0.75 -0.5  -0.25  0.    0.25  0.5   0.75\n",
            "  1.    1.25  1.5   1.75  2.  ]\n"
          ]
        }
      ],
      "source": [
        "# 넘파이 배열로 x를 정의\n",
        "\n",
        "x = np.arange(-2, 2.1, 0.25)\n",
        "print(x)"
      ]
    },
    {
      "cell_type": "code",
      "execution_count": 14,
      "metadata": {
        "id": "WXTDLngzPSpG",
        "colab": {
          "base_uri": "https://localhost:8080/"
        },
        "outputId": "10d6d23a-c6bc-4890-ea78-55c261c305b2"
      },
      "outputs": [
        {
          "output_type": "stream",
          "name": "stdout",
          "text": [
            "[10.     8.125  6.5    5.125  4.     3.125  2.5    2.125  2.     2.125\n",
            "  2.5    3.125  4.     5.125  6.5    8.125 10.   ]\n"
          ]
        }
      ],
      "source": [
        "# f(x)의 결과를 y에 대입\n",
        "\n",
        "y = f(x)\n",
        "print(y)"
      ]
    },
    {
      "cell_type": "code",
      "execution_count": 15,
      "metadata": {
        "id": "XzsseR8QPSpG",
        "colab": {
          "base_uri": "https://localhost:8080/",
          "height": 377
        },
        "outputId": "8cc9e929-6c51-4aea-f840-23069467d64a"
      },
      "outputs": [
        {
          "output_type": "display_data",
          "data": {
            "text/plain": [
              "<Figure size 432x432 with 1 Axes>"
            ],
            "image/png": "[encoded data removed]"
          },
          "metadata": {
            "needs_background": "light"
          }
        }
      ],
      "source": [
        "# 함수를 그래프로 그리기\n",
        "\n",
        "plt.plot(x, y)\n",
        "plt.show()"
      ]
    },
    {
      "cell_type": "code",
      "execution_count": 16,
      "metadata": {
        "id": "hwdDvlSKUa8W"
      },
      "outputs": [],
      "source": [
        "# 세 가지 기본 함수의 정의\n",
        "\n",
        "def f1(x):\n",
        "    return(x**2)\n",
        "\n",
        "def f2(x):\n",
        "    return(x*2)\n",
        "\n",
        "def f3(x):\n",
        "    return(x+2)\n",
        "\n",
        "# 합성 함수 만들기\n",
        "\n",
        "x1 = f1(x)\n",
        "x2 = f2(x1)\n",
        "y = f3(x2)"
      ]
    },
    {
      "cell_type": "code",
      "execution_count": 19,
      "metadata": {
        "id": "fNUqcDqVUbGW",
        "colab": {
          "base_uri": "https://localhost:8080/"
        },
        "outputId": "f841a2b5-be98-4e47-e8bf-facd5308f958"
      },
      "outputs": [
        {
          "output_type": "stream",
          "name": "stdout",
          "text": [
            "[10.     8.125  6.5    5.125  4.     3.125  2.5    2.125  2.     2.125\n",
            "  2.5    3.125  4.     5.125  6.5    8.125 10.   ]\n"
          ]
        }
      ],
      "source": [
        "# 합성 함수 값 확인\n",
        "\n",
        "print(y)"
      ]
    },
    {
      "cell_type": "code",
      "execution_count": 20,
      "metadata": {
        "id": "hqVCcelaUbKq",
        "colab": {
          "base_uri": "https://localhost:8080/",
          "height": 377
        },
        "outputId": "b0134bdd-b317-4ff1-97dc-26eb77657c85"
      },
      "outputs": [
        {
          "output_type": "display_data",
          "data": {
            "text/plain": [
              "<Figure size 432x432 with 1 Axes>"
            ],
            "image/png": "[encoded data removed]"
          },
          "metadata": {
            "needs_background": "light"
          }
        }
      ],
      "source": [
        "# 합성 함수 그래프 그리기\n",
        "\n",
        "plt.plot(x, y)\n",
        "plt.show()"
      ]
    },
    {
      "cell_type": "markdown",
      "metadata": {
        "id": "NLsU5j_CTqRd"
      },
      "source": [
        "## 1.4 '미분'과 파이썬의 '수치 미분' 구현하기\n",
        "\n",
        "파이썬의 함수 또는 변수명은 단지 포인터이며, 실체는 별개로 존재한다. \n",
        "이 점을 이용하면, '함수를 인수로하는 함수'를 만들 수 있다."
      ]
    },
    {
      "cell_type": "markdown",
      "metadata": {
        "id": "PEy0MMhvPSpG"
      },
      "source": [
        "함수를 수치 미분하는 함수``diff``를 정의한다.\n",
        "수치 미분의 계산에는, 미분의 정의로부터 다음과 같은 근사식 $f'(x) = \\dfrac{f(x+h)-f(x-h)}{2h}$ 를 사용한다."
      ]
    },
    {
      "cell_type": "code",
      "execution_count": 17,
      "metadata": {
        "id": "DUk6vPjvlWgc"
      },
      "outputs": [],
      "source": [
        "# 함수를 미분하는 함수 fdiff 의 정의\n",
        "\n",
        "def fdiff(f):\n",
        "    # 함수 f를 인수로 미분한 결과 함수를 diff로 정의\n",
        "    def diff(x):\n",
        "        h = 1e-6\n",
        "        return (f(x+h) - f(x-h)) / (2*h)\n",
        "\n",
        "    # fdiff 의 반환은 미분한 결과 함수 diff\n",
        "    return diff"
      ]
    },
    {
      "cell_type": "markdown",
      "metadata": {
        "id": "AwinTXaKrEpU"
      },
      "source": [
        "2차 함수 f에 대해, 지금 만든 함수 fdiff를 적용해서 수치 미분 계산을 해본다."
      ]
    },
    {
      "cell_type": "code",
      "execution_count": 18,
      "metadata": {
        "id": "CFUT1Mmslf4n",
        "colab": {
          "base_uri": "https://localhost:8080/"
        },
        "outputId": "84c54227-e2bd-4eba-a14f-f08ced91384b"
      },
      "outputs": [
        {
          "output_type": "stream",
          "name": "stdout",
          "text": [
            "[-8. -7. -6. -5. -4. -3. -2. -1.  0.  1.  2.  3.  4.  5.  6.  7.  8.]\n"
          ]
        }
      ],
      "source": [
        "# 2차 함수의 수치 미분\n",
        "\n",
        "# f의 미분 결과 함수 diff를 취득\n",
        "diff = fdiff(f)\n",
        "\n",
        "# 미분 결과를 계산하고 y_dash에 대입\n",
        "y_dash = diff(x)\n",
        "\n",
        "# 결과 확인\n",
        "print(y_dash)"
      ]
    },
    {
      "cell_type": "code",
      "execution_count": 21,
      "metadata": {
        "id": "vQsqq3xlPSpG",
        "colab": {
          "base_uri": "https://localhost:8080/",
          "height": 377
        },
        "outputId": "a6cdee33-cbfd-41b4-cc80-4cd2edecab05"
      },
      "outputs": [
        {
          "output_type": "display_data",
          "data": {
            "text/plain": [
              "<Figure size 432x432 with 1 Axes>"
            ],
            "image/png": "[encoded data removed]"
          },
          "metadata": {
            "needs_background": "light"
          }
        }
      ],
      "source": [
        "# 결과 그래프 출력\n",
        "\n",
        "plt.plot(x, y, label=r'y = f(x)', c='b')\n",
        "plt.plot(x, y_dash, label=r\"y = f '(x)\", c='k')\n",
        "plt.legend()\n",
        "plt.show()"
      ]
    },
    {
      "cell_type": "markdown",
      "metadata": {
        "id": "L22xQBOAPSpH"
      },
      "source": [
        "시그모이드 함수 $g(x) = \\dfrac{1}{1 + \\exp(-x)}$에 대해 같은 계산을 해본다."
      ]
    },
    {
      "cell_type": "code",
      "execution_count": 22,
      "metadata": {
        "id": "KU6ZSfbEPSpH"
      },
      "outputs": [],
      "source": [
        "# 시그모이드 함수의 정의\n",
        "\n",
        "def g(x):\n",
        "    return 1 / (1 + np.exp(-x))"
      ]
    },
    {
      "cell_type": "code",
      "execution_count": 23,
      "metadata": {
        "id": "P4_TAZkiPSpH",
        "colab": {
          "base_uri": "https://localhost:8080/"
        },
        "outputId": "73af6789-9800-4d3a-ec60-5a9e49ec4abc"
      },
      "outputs": [
        {
          "output_type": "stream",
          "name": "stdout",
          "text": [
            "[0.1192 0.148  0.1824 0.2227 0.2689 0.3208 0.3775 0.4378 0.5    0.5622\n",
            " 0.6225 0.6792 0.7311 0.7773 0.8176 0.852  0.8808]\n"
          ]
        }
      ],
      "source": [
        "# 시그모이드 함수 계산\n",
        "\n",
        "y = g(x)\n",
        "print(y)"
      ]
    },
    {
      "cell_type": "code",
      "execution_count": 24,
      "metadata": {
        "id": "KxnzGh76PSpH",
        "colab": {
          "base_uri": "https://localhost:8080/",
          "height": 377
        },
        "outputId": "fe914a5e-1570-4772-9185-56b382f98cf4"
      },
      "outputs": [
        {
          "output_type": "display_data",
          "data": {
            "text/plain": [
              "<Figure size 432x432 with 1 Axes>"
            ],
            "image/png": "[encoded data removed]"
          },
          "metadata": {
            "needs_background": "light"
          }
        }
      ],
      "source": [
        "# 그래프 출력\n",
        "\n",
        "plt.plot(x, y)\n",
        "plt.show()"
      ]
    },
    {
      "cell_type": "code",
      "execution_count": 25,
      "metadata": {
        "id": "TDlA_t5cPSpH",
        "colab": {
          "base_uri": "https://localhost:8080/"
        },
        "outputId": "405c56b1-b03a-4b5e-d549-1248953bd43d"
      },
      "outputs": [
        {
          "output_type": "stream",
          "name": "stdout",
          "text": [
            "[0.105  0.1261 0.1491 0.1731 0.1966 0.2179 0.235  0.2461 0.25   0.2461\n",
            " 0.235  0.2179 0.1966 0.1731 0.1491 0.1261 0.105 ]\n"
          ]
        }
      ],
      "source": [
        "# 시그모이드 함수의 수치 미분\n",
        "\n",
        "# g를 미분한 함수 취득\n",
        "diff = fdiff(g)\n",
        "\n",
        "# diff를 사용해 미분 결과 y_dash를 계산\n",
        "y_dash = diff(x)\n",
        "\n",
        "# 결과 확인\n",
        "print(y_dash)"
      ]
    },
    {
      "cell_type": "code",
      "execution_count": 26,
      "metadata": {
        "id": "Iu_cT2v_PSpH",
        "colab": {
          "base_uri": "https://localhost:8080/",
          "height": 377
        },
        "outputId": "389ee801-8df3-4e71-a9f1-95a1409fc5e3"
      },
      "outputs": [
        {
          "output_type": "display_data",
          "data": {
            "text/plain": [
              "<Figure size 432x432 with 1 Axes>"
            ],
            "image/png": "[encoded data removed]"
          },
          "metadata": {
            "needs_background": "light"
          }
        }
      ],
      "source": [
        "# 결과 그래프 출력\n",
        "\n",
        "plt.plot(x, y, label=r'y = f(x)', c='b')\n",
        "plt.plot(x, y_dash, label=r\"y = f '(x)\", c='k')\n",
        "plt.legend()\n",
        "plt.show()"
      ]
    },
    {
      "cell_type": "markdown",
      "metadata": {
        "id": "U6uqQ6L4PSpH"
      },
      "source": [
        "시그모이드 함수 미분 결과는 $y(1-y)$ 이다.\n",
        "이것은 y에 대해 2차로, $y=\\dfrac{1}{2}$일 때 최대값 $\\dfrac{1}{4}$를 취한다.\n",
        "위의 그래프는 이 결과와 일치하며, 수치 미분이 올바르게 이뤄졌음을 알 수 있다."
      ]
    },
    {
      "cell_type": "markdown",
      "metadata": {
        "id": "Jp1YdzDvPSpH"
      },
      "source": [
        "## 1.5 커스텀 클래스 정의하기"
      ]
    },
    {
      "cell_type": "code",
      "execution_count": 27,
      "metadata": {
        "id": "Ab0LDmO6PSpH"
      },
      "outputs": [],
      "source": [
        "# 그래프 출력을 위한 라이브러리\n",
        "import matplotlib.pyplot as plt\n",
        "\n",
        "# 원을 그리기 위해 필요한 라이브러리\n",
        "import matplotlib.patches as patches"
      ]
    },
    {
      "cell_type": "code",
      "execution_count": 28,
      "metadata": {
        "id": "ipJlePaSPSpI"
      },
      "outputs": [],
      "source": [
        "# Point 클래스 정의\n",
        "class Point:\n",
        "    # 인스턴스 생성 시에 두 개의 인수 x와 y를 가짐\n",
        "    def __init__(self, x, y):\n",
        "        # 인스턴스 속성 x에 첫 번째 인수를 할당\n",
        "        self.x = x\n",
        "        # 인스턴스 속성 y에 두 번째 인수를 할당\n",
        "        self.y = y\n",
        "\n",
        "    # draw 함수 정의(인수 없음)\n",
        "    def draw(self):\n",
        "        # (x, y)에 점을 그림\n",
        "        plt.plot(self.x, self.y, marker='o', markersize=10, c='k')"
      ]
    },
    {
      "cell_type": "code",
      "execution_count": 29,
      "metadata": {
        "id": "DAtC1ASWPSpI"
      },
      "outputs": [],
      "source": [
        "# Point 클래스로 인스턴스 변수 p1과 p2 생성\n",
        "\n",
        "p1 = Point(2,3)\n",
        "p2 = Point(-1, -2)"
      ]
    },
    {
      "cell_type": "code",
      "execution_count": 30,
      "metadata": {
        "id": "nuPBuQQyPSpI",
        "colab": {
          "base_uri": "https://localhost:8080/"
        },
        "outputId": "d9ecd253-e99e-49ea-ebf4-414629aff69e"
      },
      "outputs": [
        {
          "output_type": "stream",
          "name": "stdout",
          "text": [
            "2 3\n",
            "-1 -2\n"
          ]
        }
      ],
      "source": [
        "# p1과 p2의 속성x, y\n",
        "\n",
        "print(p1.x, p1.y)\n",
        "print(p2.x, p2.y)"
      ]
    },
    {
      "cell_type": "code",
      "execution_count": 31,
      "metadata": {
        "id": "P1RcK4uhPSpI",
        "colab": {
          "base_uri": "https://localhost:8080/",
          "height": 382
        },
        "outputId": "899f3be9-9db9-4cd2-a28b-6cd700ef6456"
      },
      "outputs": [
        {
          "output_type": "display_data",
          "data": {
            "text/plain": [
              "<Figure size 432x432 with 1 Axes>"
            ],
            "image/png": "[encoded data removed]"
          },
          "metadata": {
            "needs_background": "light"
          }
        }
      ],
      "source": [
        "# p1과 p2의 draw 함수를 호출하고, 두 개의 점을 출력함\n",
        "p1.draw()\n",
        "p2.draw()\n",
        "plt.xlim(-4, 4)\n",
        "plt.ylim(-4, 4)\n",
        "plt.show()"
      ]
    },
    {
      "cell_type": "code",
      "execution_count": 32,
      "metadata": {
        "id": "EuESwqVcPSpI"
      },
      "outputs": [],
      "source": [
        "# Point의 자식 클래스 Circle 정의 1\n",
        "\n",
        "class Circle1(Point):\n",
        "    # Circle은 인스턴스 생성 시에 인수 x, y, r을 가짐\n",
        "    def __init__(self, x, y, r):\n",
        "        # x와 y는 부모 클래스의 속성으로 설정\n",
        "        super().__init__(x, y)\n",
        "        # r은 Circle의 속성으로 설정\n",
        "        self.r = r\n",
        "     \n",
        "    # 이 단계에서 draw 함수는 정의하지 않음"
      ]
    },
    {
      "cell_type": "code",
      "execution_count": 33,
      "metadata": {
        "id": "eIDjNrTaPSpI"
      },
      "outputs": [],
      "source": [
        "# Circle1 클래스에서 인스턴스 변수 c1_1을 생성\n",
        "c1_1 = Circle1(1, 0, 2)"
      ]
    },
    {
      "cell_type": "code",
      "execution_count": 34,
      "metadata": {
        "id": "BEHIwmDzPSpI",
        "colab": {
          "base_uri": "https://localhost:8080/"
        },
        "outputId": "d70b3b07-314e-4c3a-844d-9e6093de8ce0"
      },
      "outputs": [
        {
          "output_type": "stream",
          "name": "stdout",
          "text": [
            "1 0 2\n"
          ]
        }
      ],
      "source": [
        "# c1_1의 속성 확인\n",
        "print(c1_1.x, c1_1.y, c1_1.r)"
      ]
    },
    {
      "cell_type": "code",
      "execution_count": 35,
      "metadata": {
        "id": "BLkCbcCiPSpI",
        "colab": {
          "base_uri": "https://localhost:8080/",
          "height": 382
        },
        "outputId": "eb905513-69f9-412a-f64a-15ff9fa8b1ed"
      },
      "outputs": [
        {
          "output_type": "display_data",
          "data": {
            "text/plain": [
              "<Figure size 432x432 with 1 Axes>"
            ],
            "image/png": "[encoded data removed]"
          },
          "metadata": {
            "needs_background": "light"
          }
        }
      ],
      "source": [
        "# p1, p2, c1_1의 각 draw 함수를 호출\n",
        "\n",
        "ax = plt.subplot()\n",
        "p1.draw()\n",
        "p2.draw()\n",
        "c1_1.draw()\n",
        "plt.xlim(-4, 4)\n",
        "plt.ylim(-4, 4)\n",
        "plt.show()"
      ]
    },
    {
      "cell_type": "markdown",
      "metadata": {
        "id": "obg1_EqDPSpJ"
      },
      "source": [
        "이 단계에서 draw 함수는 부모쪽에서 정의한 함수가 호출되고 있음을 알 수 있다."
      ]
    },
    {
      "cell_type": "code",
      "execution_count": 36,
      "metadata": {
        "id": "5qXE1-RCPSpJ"
      },
      "outputs": [],
      "source": [
        "# Point의 자식 클래스 Circle의 정의 2\n",
        "\n",
        "class Circle2(Point):\n",
        "    # Circle은 인스턴스 생성 시에 인수x, y, r을 가짐\n",
        "    def __init__(self, x, y, r):\n",
        "        # x와 y는 부모 클래스의 속성으로 설정\n",
        "        super().__init__(x, y)\n",
        "        # r은 Circle의 속성으로 설정\n",
        "        self.r = r\n",
        "     \n",
        "    # draw 함수는 자식 클래스만 따로 원을 그림\n",
        "    def draw(self):\n",
        "        # 원 그리기\n",
        "        c = patches.Circle(xy=(self.x, self.y), radius=self.r, fc='b', ec='k')\n",
        "        ax.add_patch(c)"
      ]
    },
    {
      "cell_type": "code",
      "execution_count": 37,
      "metadata": {
        "id": "8-XPnRryPSpJ"
      },
      "outputs": [],
      "source": [
        "# Circle2 클래스로부터 인스턴스 변수 c2_1을 생성\n",
        "c2_1 = Circle2(1, 0, 2)"
      ]
    },
    {
      "cell_type": "code",
      "execution_count": 38,
      "metadata": {
        "id": "DKmZfGcMPSpJ",
        "colab": {
          "base_uri": "https://localhost:8080/",
          "height": 382
        },
        "outputId": "a105032c-6efb-4e19-aa64-901ca5ffa18b"
      },
      "outputs": [
        {
          "output_type": "display_data",
          "data": {
            "text/plain": [
              "<Figure size 432x432 with 1 Axes>"
            ],
            "image/png": "[encoded data removed]"
          },
          "metadata": {
            "needs_background": "light"
          }
        }
      ],
      "source": [
        "# p1, p2, c2_1의 각 draw 함수를 호출\n",
        "\n",
        "ax = plt.subplot()\n",
        "p1.draw()\n",
        "p2.draw()\n",
        "c2_1.draw()\n",
        "plt.xlim(-4, 4)\n",
        "plt.ylim(-4, 4)\n",
        "plt.show()"
      ]
    },
    {
      "cell_type": "markdown",
      "metadata": {
        "id": "4i0C8PMqPSpJ"
      },
      "source": [
        "부모의 draw 함수 대신 자식의 draw 함수가 호출되었음을 알 수 있다.\n",
        "그럼, 이 함수와 부모 함수를 모두 호출하고 싶을 때는 어떻게 해야 하는가."
      ]
    },
    {
      "cell_type": "code",
      "execution_count": 39,
      "metadata": {
        "id": "6IEbSPH8PSpJ"
      },
      "outputs": [],
      "source": [
        "# Point의 자식 클래스 Circle의 정의 3\n",
        "\n",
        "class Circle3(Point):\n",
        "    # Circle은 인스턴스 생성 시에 인수 x, y, r을 가짐\n",
        "    def __init__(self, x, y, r):\n",
        "        # x와 y는 부모 클래스의 속성으로 설정\n",
        "        super().__init__(x, y)\n",
        "        # r은 Circle의 속성으로 설정\n",
        "        self.r = r\n",
        "     \n",
        "    # Circle의 draw 함수는 부모의 함수를 호출한 다음, 원 그리기를 독자적으로 수행함\n",
        "    def draw(self):\n",
        "        # 부모 클래스의 draw 함수 호출\n",
        "        super().draw()\n",
        "        \n",
        "        # 원 그리기\n",
        "        c = patches.Circle(xy=(self.x, self.y), radius=self.r, fc='b', ec='k')\n",
        "        ax.add_patch(c)"
      ]
    },
    {
      "cell_type": "code",
      "execution_count": 40,
      "metadata": {
        "id": "rmFwn3pCPSpJ"
      },
      "outputs": [],
      "source": [
        "# Circle3 클래스로부터 인스턴스 변수 c3_1를 생성\n",
        "c3_1 = Circle3(1, 0, 2)"
      ]
    },
    {
      "cell_type": "code",
      "execution_count": 41,
      "metadata": {
        "id": "AzhTYVYYPSpJ",
        "colab": {
          "base_uri": "https://localhost:8080/",
          "height": 382
        },
        "outputId": "2ed7d5f2-f4a2-4a11-da33-2dfd6f8538d6"
      },
      "outputs": [
        {
          "output_type": "display_data",
          "data": {
            "text/plain": [
              "<Figure size 432x432 with 1 Axes>"
            ],
            "image/png": "[encoded data removed]"
          },
          "metadata": {
            "needs_background": "light"
          }
        }
      ],
      "source": [
        "# p1, p2, c3_1의 각 draw 함수를 호출\n",
        "\n",
        "ax = plt.subplot()\n",
        "p1.draw()\n",
        "p2.draw()\n",
        "c3_1.draw()\n",
        "plt.xlim(-4, 4)\n",
        "plt.ylim(-4, 4)\n",
        "plt.show()"
      ]
    },
    {
      "cell_type": "markdown",
      "metadata": {
        "id": "eTmbHTnQPSpK"
      },
      "source": [
        "## 1.6 인스턴스를 함수로 사용하는 방법"
      ]
    },
    {
      "cell_type": "code",
      "execution_count": 42,
      "metadata": {
        "id": "rx8DIFfzPSpK"
      },
      "outputs": [],
      "source": [
        "# 함수 클래스 H의 정의\n",
        "\n",
        "class H:\n",
        "    def __call__(self, x):\n",
        "        return 2*x**2 + 2"
      ]
    },
    {
      "cell_type": "code",
      "execution_count": 43,
      "metadata": {
        "id": "PmLLY2RwPSpK",
        "colab": {
          "base_uri": "https://localhost:8080/"
        },
        "outputId": "fe37397a-8104-4bd1-8518-e922bd12f09f"
      },
      "outputs": [
        {
          "output_type": "stream",
          "name": "stdout",
          "text": [
            "[-2.   -1.75 -1.5  -1.25 -1.   -0.75 -0.5  -0.25  0.    0.25  0.5   0.75\n",
            "  1.    1.25  1.5   1.75  2.  ]\n",
            "[10.     8.125  6.5    5.125  4.     3.125  2.5    2.125  2.     2.125\n",
            "  2.5    3.125  4.     5.125  6.5    8.125 10.   ]\n"
          ]
        }
      ],
      "source": [
        "# h가 함수로 동작하는지 확인\n",
        "\n",
        "# 넘파이 배열 x를 정의\n",
        "x = np.arange(-2, 2.1, 0.25)\n",
        "print(x)\n",
        "\n",
        "# H 클래스의 인스턴스로 h를 생성\n",
        "h = H() \n",
        "\n",
        "# 함수 h 호출\n",
        "y = h(x)\n",
        "print(y)"
      ]
    },
    {
      "cell_type": "code",
      "execution_count": 44,
      "metadata": {
        "id": "aLJPaaFmPSpK",
        "colab": {
          "base_uri": "https://localhost:8080/",
          "height": 377
        },
        "outputId": "342b7d5c-decd-4d84-c059-c0e43969b97a"
      },
      "outputs": [
        {
          "output_type": "display_data",
          "data": {
            "text/plain": [
              "<Figure size 432x432 with 1 Axes>"
            ],
            "image/png": "[encoded data removed]"
          },
          "metadata": {
            "needs_background": "light"
          }
        }
      ],
      "source": [
        "# 그래프 출력\n",
        "\n",
        "plt.plot(x, y)\n",
        "plt.show()"
      ]
    },
    {
      "cell_type": "code",
      "execution_count": null,
      "metadata": {
        "id": "eRZh0Nv-PSpK"
      },
      "outputs": [],
      "source": []
    }
  ],
  "metadata": {
    "colab": {
      "provenance": [],
      "toc_visible": true,
      "include_colab_link": true
    },
    "kernelspec": {
      "display_name": "Python 3",
      "language": "python",
      "name": "python3"
    },
    "language_info": {
      "codemirror_mode": {
        "name": "ipython",
        "version": 3
      },
      "file_extension": ".py",
      "mimetype": "text/x-python",
      "name": "python",
      "nbconvert_exporter": "python",
      "pygments_lexer": "ipython3",
      "version": "3.8.8"
    }
  },
  "nbformat": 4,
  "nbformat_minor": 0
}